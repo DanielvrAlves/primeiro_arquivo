{
  "nbformat": 4,
  "nbformat_minor": 0,
  "metadata": {
    "colab": {
      "provenance": [],
      "toc_visible": true,
      "mount_file_id": "1jvjdXN0-EFUr1gnGKC1Gp1msNcneW1hT",
      "authorship_tag": "ABX9TyNVYu3JgZEAPdz4soLbOzKn",
      "include_colab_link": true
    },
    "kernelspec": {
      "name": "python3",
      "display_name": "Python 3"
    },
    "language_info": {
      "name": "python"
    }
  },
  "cells": [
    {
      "cell_type": "markdown",
      "metadata": {
        "id": "view-in-github",
        "colab_type": "text"
      },
      "source": [
        "<a href=\"https://colab.research.google.com/github/DanielvrAlves/primeiro_arquivo/blob/main/Arquivo1.ipynb\" target=\"_parent\"><img src=\"https://colab.research.google.com/assets/colab-badge.svg\" alt=\"Open In Colab\"/></a>"
      ]
    },
    {
      "cell_type": "markdown",
      "source": [
        "# Titulo\n",
        "A partir do `momento` que eu *vou* **editando** "
      ],
      "metadata": {
        "id": "Ok1G8jfu003-"
      }
    },
    {
      "cell_type": "markdown",
      "source": [
        "## Começar um novo texto\n"
      ],
      "metadata": {
        "id": "XYBbxVzQ1Awt"
      }
    },
    {
      "cell_type": "code",
      "execution_count": null,
      "metadata": {
        "id": "EqU6uIGR0eFI"
      },
      "outputs": [],
      "source": [
        "import math\n"
      ]
    },
    {
      "cell_type": "code",
      "source": [
        "print('Olá, mundo!') #função imprimir"
      ],
      "metadata": {
        "colab": {
          "base_uri": "https://localhost:8080/"
        },
        "id": "LbRIKDGC1vOU",
        "outputId": "153a7347-a168-4bd1-c9d8-36bc3fdc21e9"
      },
      "execution_count": null,
      "outputs": [
        {
          "output_type": "stream",
          "name": "stdout",
          "text": [
            "Olá, mundo!\n"
          ]
        }
      ]
    },
    {
      "cell_type": "code",
      "source": [
        "print ('meu nome é' ,3,'Daniel')"
      ],
      "metadata": {
        "colab": {
          "base_uri": "https://localhost:8080/"
        },
        "id": "0BAYZ7Rx-JZT",
        "outputId": "f734bde5-1a88-4030-a56e-1fb0f97e54f3"
      },
      "execution_count": null,
      "outputs": [
        {
          "output_type": "stream",
          "name": "stdout",
          "text": [
            "meu nome é 3 Daniel\n"
          ]
        }
      ]
    },
    {
      "cell_type": "code",
      "source": [
        "lanche = 'x-burger'\n",
        "preço = 10.90\n",
        "qtd = 2"
      ],
      "metadata": {
        "colab": {
          "base_uri": "https://localhost:8080/",
          "height": 201
        },
        "id": "vgMjaCyYApSQ",
        "outputId": "d42c74a9-8cd3-40c1-c5b8-7151177f7977"
      },
      "execution_count": null,
      "outputs": [
        {
          "output_type": "error",
          "ename": "AttributeError",
          "evalue": "ignored",
          "traceback": [
            "\u001b[0;31m---------------------------------------------------------------------------\u001b[0m",
            "\u001b[0;31mAttributeError\u001b[0m                            Traceback (most recent call last)",
            "\u001b[0;32m<ipython-input-34-be43dabc06a3>\u001b[0m in \u001b[0;36m<module>\u001b[0;34m\u001b[0m\n\u001b[0;32m----> 1\u001b[0;31m \u001b[0mlanche\u001b[0m\u001b[0;34m.\u001b[0m\u001b[0mtipo\u001b[0m \u001b[0;34m=\u001b[0m\u001b[0;34m'x-burger'\u001b[0m\u001b[0;34m\u001b[0m\u001b[0;34m\u001b[0m\u001b[0m\n\u001b[0m\u001b[1;32m      2\u001b[0m \u001b[0mlanche\u001b[0m\u001b[0;34m.\u001b[0m\u001b[0mpreço\u001b[0m\u001b[0;34m=\u001b[0m\u001b[0;36m10.9\u001b[0m\u001b[0;34m\u001b[0m\u001b[0;34m\u001b[0m\u001b[0m\n\u001b[1;32m      3\u001b[0m \u001b[0mlanche\u001b[0m\u001b[0;34m.\u001b[0m\u001b[0mqtd\u001b[0m\u001b[0;34m=\u001b[0m\u001b[0;36m1\u001b[0m\u001b[0;34m\u001b[0m\u001b[0;34m\u001b[0m\u001b[0m\n",
            "\u001b[0;31mAttributeError\u001b[0m: 'float' object has no attribute 'tipo'"
          ]
        }
      ]
    },
    {
      "cell_type": "code",
      "source": [
        "lanche = 10.90\n",
        "batata = 5.9\n",
        "refri = 3\n",
        "pgto = 'cartão'"
      ],
      "metadata": {
        "id": "MmM-dpsCA96F"
      },
      "execution_count": null,
      "outputs": []
    },
    {
      "cell_type": "code",
      "source": [
        "conta = lanche + batata + refri\n",
        "print (conta)"
      ],
      "metadata": {
        "colab": {
          "base_uri": "https://localhost:8080/"
        },
        "id": "YRbDU_NKBLG6",
        "outputId": "c8b9e1f0-c0f2-427e-a719-7786e48d92ca"
      },
      "execution_count": null,
      "outputs": [
        {
          "output_type": "stream",
          "name": "stdout",
          "text": [
            "19.8\n"
          ]
        }
      ]
    },
    {
      "cell_type": "code",
      "source": [
        "print('Voce pediu um lanche de : R$', lanche , 'e uma batata de : R$' , batata , 'totalizando : R$' , lanche + batata, '. O seu pagamento será em',pgto)"
      ],
      "metadata": {
        "colab": {
          "base_uri": "https://localhost:8080/"
        },
        "id": "D6ZalvUABlmx",
        "outputId": "7c60b0a2-d260-43b1-fc42-16c8a5cd8627"
      },
      "execution_count": null,
      "outputs": [
        {
          "output_type": "stream",
          "name": "stdout",
          "text": [
            "Voce pediu um lanche de : R$ 10.9 e uma batata de : R$ 5.9 totalizando : R$ 16.8 . O seu pagamento será em cartão\n"
          ]
        }
      ]
    },
    {
      "cell_type": "code",
      "source": [
        "lanche = input ('Qual lanche você quer:')\n",
        "print ('Voce quer um :' , lanche)"
      ],
      "metadata": {
        "colab": {
          "base_uri": "https://localhost:8080/"
        },
        "id": "_39vV8IxC2Co",
        "outputId": "b8af6d32-7361-4a2b-fc87-14ec36bdac2a"
      },
      "execution_count": null,
      "outputs": [
        {
          "output_type": "stream",
          "name": "stdout",
          "text": [
            "Qual lanche você quer:pão\n",
            "Voce quer um : pão\n"
          ]
        }
      ]
    },
    {
      "cell_type": "code",
      "source": [
        "type(lanche)\n",
        "#type(5)\n",
        "#type(7.2)"
      ],
      "metadata": {
        "colab": {
          "base_uri": "https://localhost:8080/"
        },
        "id": "eJrCqwCODe1h",
        "outputId": "453e0006-5916-4d21-b5ca-4e50f5c5acfd"
      },
      "execution_count": null,
      "outputs": [
        {
          "output_type": "execute_result",
          "data": {
            "text/plain": [
              "str"
            ]
          },
          "metadata": {},
          "execution_count": 43
        }
      ]
    },
    {
      "cell_type": "code",
      "source": [
        "tipo de dados "
      ],
      "metadata": {
        "id": "_S7tYxufDvzC"
      },
      "execution_count": null,
      "outputs": []
    },
    {
      "cell_type": "code",
      "source": [
        "type(int('034'))"
      ],
      "metadata": {
        "colab": {
          "base_uri": "https://localhost:8080/"
        },
        "id": "9Ou7aRHnItB7",
        "outputId": "3f335697-a38e-4bce-fc24-69df8ac08ace"
      },
      "execution_count": null,
      "outputs": [
        {
          "output_type": "execute_result",
          "data": {
            "text/plain": [
              "int"
            ]
          },
          "metadata": {},
          "execution_count": 8
        }
      ]
    },
    {
      "cell_type": "code",
      "source": [
        "a=1\n",
        "b=7\n",
        "print('a dividido por b é {}'.format(a/b))\n",
        "print('a dividido por b é {0:.5f}'.format(a/b,b/a))\n",
        "print('a dividido por b é {1:.5f}'.format(a/b,b/a))\n",
        "\n",
        "c=245\n",
        "d=2898776655000.8358959999\n",
        "\n",
        "print('[{0:10d}] e [{1:10.4f}]'.format(c,d))\n"
      ],
      "metadata": {
        "colab": {
          "base_uri": "https://localhost:8080/"
        },
        "id": "wKKL2QjOKxCv",
        "outputId": "3f713113-acae-40e2-9a4f-4cc196a0f857"
      },
      "execution_count": null,
      "outputs": [
        {
          "output_type": "stream",
          "name": "stdout",
          "text": [
            "a dividido por b é 0.14285714285714285\n",
            "a dividido por b é 0.14286\n",
            "a dividido por b é 7.00000\n",
            "[       245] e [2898776655000.8359]\n"
          ]
        }
      ]
    },
    {
      "cell_type": "markdown",
      "source": [],
      "metadata": {
        "id": "0QT-SLh-0xj9"
      }
    },
    {
      "cell_type": "markdown",
      "source": [],
      "metadata": {
        "id": "tL_z6gC30jZJ"
      }
    },
    {
      "cell_type": "code",
      "source": [
        "comida=input('O que deseja comer: ')\n",
        "print(type(comida=='lanche'))\n",
        "if comida=='lanche': \n",
        "  print('ir ao méqui')\n",
        "  print('comer lanche')\n",
        "else:\n",
        "  print('ir a pizzaria')\n",
        "  print('comer a pizza')\n",
        "print('fome satisfeita')"
      ],
      "metadata": {
        "colab": {
          "base_uri": "https://localhost:8080/"
        },
        "id": "Wb5HvFLogALC",
        "outputId": "cde26f2d-4db1-4fe3-94dd-20ebceb6b407"
      },
      "execution_count": 13,
      "outputs": [
        {
          "output_type": "stream",
          "name": "stdout",
          "text": [
            "O que deseja comer: lanche\n",
            "<class 'bool'>\n",
            "ir ao méqui\n",
            "comer lanche\n",
            "fome satisfeita\n"
          ]
        }
      ]
    },
    {
      "cell_type": "code",
      "source": [
        "saldo=input('Digite a quantidade de dinheiro que você tem:')\n",
        "transporte=input('Digite o valor do transporte: ')\n",
        "lanche=input('Digite o valor do lanche: ')\n",
        "saldo=float(saldo)\n",
        "transporte=float(transporte)\n",
        "lanche=float(lanche)\n",
        "\n",
        "if lanche+transporte<=saldo:\n",
        "  print('comer o lanche')\n",
        "  print('voltar pra casa')\n",
        "  saldo=saldo-transporte-lanche\n",
        "  print('o saldo restante é: ', saldo)\n",
        "  print('matou a fome')\n",
        "elif transporte<= saldo:\n",
        "  print('voltar pra casa')\n",
        "  saldo=saldo-transporte\n",
        "  print('o saldo restante é: ', saldo)\n",
        "  print('não matou a fome')\n",
        "else:\n",
        "  print('dormir na rua')\n",
        "  saldo=saldo\n",
        "  print('o saldo restante é: ', saldo)\n",
        "  print('não matou a fome')"
      ],
      "metadata": {
        "colab": {
          "base_uri": "https://localhost:8080/"
        },
        "id": "vYSkrB6Ylxka",
        "outputId": "8c444f68-9a6c-493d-aa9b-1f954c969934"
      },
      "execution_count": 3,
      "outputs": [
        {
          "output_type": "stream",
          "name": "stdout",
          "text": [
            "Digite a quantidade de dinheiro que você tem:30\n",
            "Digite o valor do transporte: 10\n",
            "Digite o valor do lanche: 5\n",
            "comer o lanche\n",
            "voltar pra casa\n",
            "o saldo restante é:  15.0\n",
            "matou a fome\n"
          ]
        }
      ]
    },
    {
      "cell_type": "code",
      "source": [
        "tupla = ('Lanche','Batata','Refri')\n",
        "tupla[0]\n",
        "type(tupla)\n",
        "print(tupla[2])\n",
        "#tupla[1]='Milk Shake' - Erro\n",
        "\n",
        "tupla2=('Lanche',2,True,8.2)\n",
        "print(type(tupla2))\n",
        "print(type(tupla2[0]))\n",
        "print(type(tupla2[1]))\n",
        "print(type(tupla2[2]))\n",
        "print(type(tupla2[3]))\n",
        "print('Tamanho da tupla = {} '.format(len(tupla2)))\n",
        "\n",
        "tupla3=(3,2,1,8)\n",
        "print('A ordenação da tupla3 é = {}'.format((tupla3)))\n",
        "\n",
        "print('A ordenação da tupla3 ordenada é = {}'.format(sorted(tupla3))) #Resultado sai em lista\n",
        "\n",
        "t2=(1,3,3,5,3,5,7)\n",
        "\n",
        "t2.count(3) # conta quantos numeros 3 tem nessa tupla\n",
        "\n",
        "t2.index(7) # me diz o termo do valor 7 da tupla, lembrando que é 0,1,2,3\n",
        "\n",
        "t2.index(3,0) # me diz o termo do valor 7 da tupla, lembrando que é 0,1,2,3. Alem disso ele retorna a posição do primeiro valor 3 encontrado"
      ],
      "metadata": {
        "colab": {
          "base_uri": "https://localhost:8080/"
        },
        "id": "sGFVnnodEejj",
        "outputId": "5c37a5a4-e7f9-439c-e627-59a9c186d127"
      },
      "execution_count": 27,
      "outputs": [
        {
          "output_type": "stream",
          "name": "stdout",
          "text": [
            "Refri\n",
            "<class 'tuple'>\n",
            "<class 'str'>\n",
            "<class 'int'>\n",
            "<class 'bool'>\n",
            "<class 'float'>\n",
            "Tamanho da tupla = 4 \n",
            "A ordenação da tupla3 é = (3, 2, 1, 8)\n",
            "A ordenação da tupla3 ordenada é = [1, 2, 3, 8]\n"
          ]
        },
        {
          "output_type": "execute_result",
          "data": {
            "text/plain": [
              "1"
            ]
          },
          "metadata": {},
          "execution_count": 27
        }
      ]
    },
    {
      "cell_type": "code",
      "source": [
        "tupla=(2,6,4,5,7)\n",
        "print(tupla[0:2])\n",
        "print(tupla[1:4])\n",
        "print(tupla[1:])\n",
        "print(tupla[:3])\n",
        "print(tupla[-1])"
      ],
      "metadata": {
        "colab": {
          "base_uri": "https://localhost:8080/"
        },
        "id": "NImbeRakJHDr",
        "outputId": "702a0ba5-09e1-4ab7-8e4f-9a0d3997e251"
      },
      "execution_count": 11,
      "outputs": [
        {
          "output_type": "stream",
          "name": "stdout",
          "text": [
            "(2, 6)\n",
            "(6, 4, 5)\n",
            "(6, 4, 5, 7)\n",
            "(2, 6, 4)\n",
            "7\n"
          ]
        }
      ]
    },
    {
      "cell_type": "code",
      "source": [
        "t2 = ('Lanche', 'Batata' , 'Refri')\n",
        "\n",
        "for i in t2:\n",
        "  input('Voce quer um {}'.format(i))\n",
        "print(i)"
      ],
      "metadata": {
        "colab": {
          "base_uri": "https://localhost:8080/"
        },
        "id": "2UJ8IVRaQvR0",
        "outputId": "7711ba40-09bd-454a-99fd-ba4ae144891d"
      },
      "execution_count": 30,
      "outputs": [
        {
          "output_type": "stream",
          "name": "stdout",
          "text": [
            "Voce quer um Lanches\n",
            "Voce quer um Batatas\n",
            "Voce quer um Refris\n",
            "Refri\n"
          ]
        }
      ]
    },
    {
      "cell_type": "code",
      "source": [
        "t2=(2,6,4,5,7)\n",
        "soma=0\n",
        "count=0\n",
        "\n",
        "for i in t2:\n",
        "  soma=i+soma\n",
        "  count=count+1\n",
        "  print('A {} soma é {}'.format(count,soma))"
      ],
      "metadata": {
        "colab": {
          "base_uri": "https://localhost:8080/"
        },
        "id": "2-tLT9yXRR0b",
        "outputId": "f39dab21-4ec6-4a77-9afa-c0685a0aec0e"
      },
      "execution_count": 36,
      "outputs": [
        {
          "output_type": "stream",
          "name": "stdout",
          "text": [
            "A 1 soma é 2\n",
            "A 2 soma é 8\n",
            "A 3 soma é 12\n",
            "A 4 soma é 17\n",
            "A 5 soma é 24\n"
          ]
        }
      ]
    },
    {
      "cell_type": "code",
      "source": [
        "t2=('Lanche','Batata','Refri')\n",
        "\n",
        "for ind,valor in enumerate(t2):\n",
        "  print('O item {} é um(a) {} '.format(ind,valor))\n",
        "print('fim')"
      ],
      "metadata": {
        "colab": {
          "base_uri": "https://localhost:8080/"
        },
        "id": "YORZSjvnTPgQ",
        "outputId": "5884cc5f-f1d3-43a7-bbe4-aac1844d7538"
      },
      "execution_count": 37,
      "outputs": [
        {
          "output_type": "stream",
          "name": "stdout",
          "text": [
            "O item 0 é um(a) Lanche \n",
            "O item 1 é um(a) Batata \n",
            "O item 2 é um(a) Refri \n",
            "fim\n"
          ]
        }
      ]
    },
    {
      "cell_type": "code",
      "source": [
        "l1=[2,6,4,5,7]\n",
        "print(l1)\n",
        "l1[2]=3\n",
        "print(l1)\n",
        "l1[0:2]=[0,1]\n",
        "print(l1)\n",
        "l1.append(7)\n",
        "print(l1)\n",
        "l1.insert(3,4)\n",
        "print(l1)\n",
        "\n",
        "del l1[3]\n",
        "print(l1)\n",
        "\n",
        "var=l1.pop(2)\n",
        "print(l1,var)\n",
        "\n",
        "l1.remove(7)\n",
        "\n",
        "print(l1)\n",
        "\n",
        "l1 = [0, 1, 3, 5, 7, 7]\n",
        "\n",
        "if 7 in l1:\n",
        "  while 7 in l1:\n",
        "    l1.remove(7)\n",
        "print(l1)    \n",
        "\n",
        "l1.sort(reverse = True)\n",
        "\n",
        "print(l1)\n",
        "\n"
      ],
      "metadata": {
        "colab": {
          "base_uri": "https://localhost:8080/"
        },
        "id": "WP9sV3Xa5ce3",
        "outputId": "b0437c8d-5197-4c97-e588-731b1698d59c"
      },
      "execution_count": 13,
      "outputs": [
        {
          "output_type": "stream",
          "name": "stdout",
          "text": [
            "[2, 6, 4, 5, 7]\n",
            "[2, 6, 3, 5, 7]\n",
            "[0, 1, 3, 5, 7]\n",
            "[0, 1, 3, 5, 7, 7]\n",
            "[0, 1, 3, 4, 5, 7, 7]\n",
            "[0, 1, 3, 5, 7, 7]\n",
            "[0, 1, 5, 7, 7] 3\n",
            "[0, 1, 5, 7]\n",
            "[0, 1, 3, 5]\n",
            "[5, 3, 1, 0]\n"
          ]
        }
      ]
    },
    {
      "cell_type": "code",
      "source": [
        "l1=[0,2,6,4,8,1,3]\n",
        "l2=[3,2,1,7,8,2,5]\n",
        "l3=[]\n",
        "\n",
        "\n",
        "\n",
        "for i,valor in enumerate(l1):\n",
        "  l3.append(l1[i]+l2[i])\n",
        " # print(l3) \n",
        "  \n",
        "  \n",
        "print(l1)\n",
        "print(l2)\n",
        "print(l3)  "
      ],
      "metadata": {
        "colab": {
          "base_uri": "https://localhost:8080/"
        },
        "id": "saFr7LoJBtr6",
        "outputId": "58ea9c64-a025-425f-90c1-aa996f15bac8"
      },
      "execution_count": 20,
      "outputs": [
        {
          "output_type": "stream",
          "name": "stdout",
          "text": [
            "[3]\n",
            "[3, 4]\n",
            "[3, 4, 7]\n",
            "[3, 4, 7, 11]\n",
            "[3, 4, 7, 11, 16]\n",
            "[3, 4, 7, 11, 16, 3]\n",
            "[3, 4, 7, 11, 16, 3, 8]\n",
            "[0, 2, 6, 4, 8, 1, 3]\n",
            "[3, 2, 1, 7, 8, 2, 5]\n",
            "[3, 4, 7, 11, 16, 3, 8]\n"
          ]
        }
      ]
    },
    {
      "cell_type": "code",
      "source": [
        "l1=[0,2,6,4,8,1,3]\n",
        "l2=[3,2,1,7,8]\n",
        "l3=[]\n",
        "\n",
        "for v1, v2 in zip(l1,l2):\n",
        "  print(f'v1={v1} e v2 = {v2}')\n",
        "  l3.append(v1+v2)\n",
        "print(l3)"
      ],
      "metadata": {
        "colab": {
          "base_uri": "https://localhost:8080/"
        },
        "id": "f4f9TnRGFYXo",
        "outputId": "efb98ae7-6c38-46cf-c683-d3acdd101e0f"
      },
      "execution_count": 21,
      "outputs": [
        {
          "output_type": "stream",
          "name": "stdout",
          "text": [
            "v1=0 e v2 = 3\n",
            "v1=2 e v2 = 2\n",
            "v1=6 e v2 = 1\n",
            "v1=4 e v2 = 7\n",
            "v1=8 e v2 = 8\n",
            "[3, 4, 7, 11, 16]\n"
          ]
        }
      ]
    },
    {
      "cell_type": "code",
      "source": [
        "tupla=(1,4,6,7)\n",
        "lista=[1,3,4,5,6]\n",
        "\n",
        "for i,v in enumerate(tupla):\n",
        "  print(i,v)\n",
        "\n",
        "for v1,v2 in zip(tupla,lista):\n",
        "  print(v1,'+',v2,'=',v1+v2)"
      ],
      "metadata": {
        "colab": {
          "base_uri": "https://localhost:8080/"
        },
        "id": "YaXfxbKRvN7o",
        "outputId": "aeac857d-9b85-4f91-f792-f32197fd2c80"
      },
      "execution_count": 3,
      "outputs": [
        {
          "output_type": "stream",
          "name": "stdout",
          "text": [
            "0 1\n",
            "1 4\n",
            "2 6\n",
            "3 7\n",
            "1 + 1 = 2\n",
            "4 + 3 = 7\n",
            "6 + 4 = 10\n",
            "7 + 5 = 12\n"
          ]
        }
      ]
    },
    {
      "cell_type": "code",
      "source": [
        "l1 = [0, 2, 6, 4, 8, 1, 3]\n",
        "l2 = [3, 2, 1, 7, 8, 2, 5]\n",
        "l3 = []\n",
        "for i,v  in enumerate(l1):\n",
        " l3.append(l1[i] + l2[i])\n",
        "print(l3) "
      ],
      "metadata": {
        "colab": {
          "base_uri": "https://localhost:8080/"
        },
        "id": "ZwjzED6_w8uy",
        "outputId": "2d8a3702-c13e-406b-d400-513fca9d6137"
      },
      "execution_count": 6,
      "outputs": [
        {
          "output_type": "stream",
          "name": "stdout",
          "text": [
            "[3, 4, 7, 11, 16, 3, 8]\n"
          ]
        }
      ]
    },
    {
      "cell_type": "code",
      "source": [
        "lanche=['Lanche',10.9]\n",
        "batata=['Batata',5.5]\n",
        "refri=['Refri',3.9]\n",
        "\n",
        "cardapio=[lanche,batata,refri]\n",
        "\n",
        "print(cardapio)"
      ],
      "metadata": {
        "colab": {
          "base_uri": "https://localhost:8080/"
        },
        "id": "iqyZRndyyg3U",
        "outputId": "f6dd84c8-a718-442f-cc28-0a76414e392d"
      },
      "execution_count": 9,
      "outputs": [
        {
          "output_type": "stream",
          "name": "stdout",
          "text": [
            "[['Lanche', 10.9], ['Batata', 5.5], ['Refri', 3.9]]\n"
          ]
        }
      ]
    },
    {
      "cell_type": "code",
      "source": [
        "dicio ={'nome':'Everton',\n",
        "        'idade': 29,\n",
        "        'cidade':'São Jose'}\n",
        "\n",
        "print(dicio['nome'])\n",
        "\n",
        "dicio['nome']='Thiago'\n",
        "\n",
        "print(dicio['nome'])\n",
        "\n",
        "print(dicio)\n",
        "\n",
        "print(dicio.values())\n",
        "print(dicio.keys())\n",
        "print(dicio.items())\n",
        "\n",
        "del dicio['cidade']\n",
        "\n",
        "print(dicio)\n",
        "\n",
        "for v in dicio.values():\n",
        "  print('Values = {}'.format(v))\n",
        "for k in dicio.keys():\n",
        "  print('Keys = {}'.format(k))\n",
        "\n",
        "for k, v in dicio.items():\n",
        "  print('Keys = {} e Values = {}'.format(k,v))"
      ],
      "metadata": {
        "colab": {
          "base_uri": "https://localhost:8080/"
        },
        "id": "_S4KofbMZFhF",
        "outputId": "1cb49a0a-a038-4ac0-b311-d0508b983b2f"
      },
      "execution_count": 17,
      "outputs": [
        {
          "output_type": "stream",
          "name": "stdout",
          "text": [
            "Everton\n",
            "Thiago\n",
            "{'nome': 'Thiago', 'idade': 29, 'cidade': 'São Jose'}\n",
            "dict_values(['Thiago', 29, 'São Jose'])\n",
            "dict_keys(['nome', 'idade', 'cidade'])\n",
            "dict_items([('nome', 'Thiago'), ('idade', 29), ('cidade', 'São Jose')])\n",
            "{'nome': 'Thiago', 'idade': 29}\n",
            "Values = Thiago\n",
            "Values = 29\n",
            "Keys = nome\n",
            "Keys = idade\n",
            "Keys = nome e Values = Thiago\n",
            "Keys = idade e Values = 29\n"
          ]
        }
      ]
    },
    {
      "cell_type": "code",
      "source": [
        "def funcao():\n",
        "  print('Olá mundo')\n",
        "\n",
        "funcao() \n",
        "funcao() \n",
        "funcao() "
      ],
      "metadata": {
        "colab": {
          "base_uri": "https://localhost:8080/"
        },
        "id": "5mX8Vtph66WG",
        "outputId": "48fa6f74-e167-4fc6-9c4d-56ef10c8d653"
      },
      "execution_count": 4,
      "outputs": [
        {
          "output_type": "stream",
          "name": "stdout",
          "text": [
            "Olá mundo\n",
            "Olá mundo\n",
            "Olá mundo\n"
          ]
        }
      ]
    },
    {
      "cell_type": "code",
      "source": [
        "def soma(a,b):\n",
        "  print(a+b)\n",
        "\n",
        "soma(1,2)\n",
        "soma(0,6)"
      ],
      "metadata": {
        "colab": {
          "base_uri": "https://localhost:8080/"
        },
        "id": "tFBhRMBA7G_s",
        "outputId": "49a041e8-cb93-4d7c-98e3-4e0179756172"
      },
      "execution_count": 5,
      "outputs": [
        {
          "output_type": "stream",
          "name": "stdout",
          "text": [
            "3\n",
            "6\n"
          ]
        }
      ]
    },
    {
      "cell_type": "code",
      "source": [
        "s=0\n",
        "def soma(a=0,b=10):\n",
        "  \"\"\"\n",
        "  ola somo numeros\n",
        "  \"\"\"\n",
        "  print(a+b)\n",
        "  s=a+b\n",
        "  return s\n",
        "\n",
        "soma(4)\n",
        "soma(1,7)\n",
        "print(s)\n",
        "\n",
        "help(soma)"
      ],
      "metadata": {
        "colab": {
          "base_uri": "https://localhost:8080/"
        },
        "id": "8fWhGOlT7XBa",
        "outputId": "2765b481-0013-4861-eae9-561701360118"
      },
      "execution_count": 12,
      "outputs": [
        {
          "output_type": "stream",
          "name": "stdout",
          "text": [
            "14\n",
            "8\n",
            "0\n",
            "Help on function soma in module __main__:\n",
            "\n",
            "soma(a=0, b=10)\n",
            "    ola somo numeros\n",
            "\n"
          ]
        }
      ]
    },
    {
      "cell_type": "code",
      "source": [
        "area = [200,'null',720,1500,1000,275,'null',1200,2400,'null'] \n",
        "altura = ['null',30,40,30,10,25,33,'null',12,20] \n",
        "largura = [20,20,'null',50,100,'null',30,100,200,10]\n",
        "\n",
        "print(area)\n",
        "print(altura)\n",
        "print(largura[2])\n",
        "\n",
        "print(len(area))\n",
        "print(len(altura))\n",
        "print(len(largura))\n",
        "\n",
        "\n",
        "for i in (0,9,1):\n",
        "  if area[i]=='null':\n",
        "    area[i]=float(altura[i]*largura[i])\n",
        "  if altura[i]=='null':\n",
        "    altura[i]=float(area[i]/largura[i])\n",
        "  if largura[i]=='null':\n",
        "    largura[i]=float(area[i]/altura[i])\n",
        "\n",
        "print(area)\n",
        "print(altura)\n",
        "print(largura)"
      ],
      "metadata": {
        "colab": {
          "base_uri": "https://localhost:8080/"
        },
        "id": "GitkpGf_whyC",
        "outputId": "06d3822b-f13e-46fc-ae13-0c7a4adfbba4"
      },
      "execution_count": 23,
      "outputs": [
        {
          "output_type": "stream",
          "name": "stdout",
          "text": [
            "[200, 'null', 720, 1500, 1000, 275, 'null', 1200, 2400, 'null']\n",
            "['null', 30, 40, 30, 10, 25, 33, 'null', 12, 20]\n",
            "null\n",
            "10\n",
            "10\n",
            "10\n",
            "[200, 600.0, 720, 1500, 1000, 275, 'null', 1200, 2400, 200.0]\n",
            "[10.0, 30, 40, 30, 10, 25, 33, 'null', 12, 20]\n",
            "[20, 20, 'null', 50, 100, 'null', 30, 100, 200, 10]\n"
          ]
        }
      ]
    },
    {
      "cell_type": "code",
      "source": [
        "def imprime():\n",
        "  print('ola')\n",
        "  print('')\n",
        "  print(\"ola\")\n",
        "\n",
        "imprime()"
      ],
      "metadata": {
        "colab": {
          "base_uri": "https://localhost:8080/"
        },
        "id": "exJwxgBE2RnC",
        "outputId": "b8c2a087-085e-4342-88b7-c611d1890359"
      },
      "execution_count": 26,
      "outputs": [
        {
          "output_type": "stream",
          "name": "stdout",
          "text": [
            "ola\n",
            "\n",
            "ola\n"
          ]
        }
      ]
    },
    {
      "cell_type": "code",
      "source": [
        "cidade = 'São Jose dos campos'\n",
        "estado = 'São Paulo'\n",
        "pais = 'Brasil'\n",
        "\n",
        "#print('Nasci em' , cidade ,'uma cidade do interior do estado de ',estado,'que pertence a regiao sudeste do',pais)\n",
        "#print('Nasci em {} uma cidade do interior do estado de {} que pertence a regiao sudeste do {}'.format(cidade,estado,pais))\n",
        "print('Nasci em' + cidade +'uma cidade do interior do estado de '+estado+'que pertence a regiao sudeste do'+pais)"
      ],
      "metadata": {
        "colab": {
          "base_uri": "https://localhost:8080/"
        },
        "id": "3ZyD35de239T",
        "outputId": "ffb00f60-f077-4c15-ae68-658d2d3bf2f3"
      },
      "execution_count": 32,
      "outputs": [
        {
          "output_type": "stream",
          "name": "stdout",
          "text": [
            "Nasci emSão Jose dos camposuma cidade do interior do estado de São Pauloque pertence a regiao sudeste doBrasil\n"
          ]
        }
      ]
    },
    {
      "cell_type": "code",
      "source": [
        "a=59;\n",
        "b=7;\n",
        "\n",
        "print('O resultado da divisao de {} por {} resulta em {:6.4f} e o resto da divisão é {}'.format(a,b,a/b,a%b))"
      ],
      "metadata": {
        "colab": {
          "base_uri": "https://localhost:8080/"
        },
        "id": "Ce9YFDCW23KP",
        "outputId": "4dc17066-5327-4e5a-b99a-7ff0f91ca873"
      },
      "execution_count": 33,
      "outputs": [
        {
          "output_type": "stream",
          "name": "stdout",
          "text": [
            "O resultado da divisao de 59 por 7 resulta em 8.4286 e o resto da divisão é 3\n"
          ]
        }
      ]
    },
    {
      "cell_type": "code",
      "source": [
        "preco_peca=float(input('x'))\n",
        "saldo=float(input('y'))\n",
        "\n",
        "if preco_peca<=saldo:\n",
        "  print('compre {}'.format(saldo-preco_peca))\n",
        "else:\n",
        "  print('nao compre {}'.format(preco_peca-saldo))"
      ],
      "metadata": {
        "colab": {
          "base_uri": "https://localhost:8080/"
        },
        "id": "4OJqTIly4lxB",
        "outputId": "c72712d9-8de0-4cac-fb84-5beb9cea3d69"
      },
      "execution_count": 35,
      "outputs": [
        {
          "output_type": "stream",
          "name": "stdout",
          "text": [
            "x5\n",
            "y5\n",
            "compre 0.0\n"
          ]
        }
      ]
    },
    {
      "cell_type": "code",
      "source": [
        "l1=[1,5,12,14,15,20]\n",
        "l2=[2,3,7,10,11]\n",
        "l3=l2[:]\n",
        "l4=l2\n",
        "l4.pop()\n",
        "l5=[]\n",
        "\n",
        "for v1,v2 in zip (l1,l2):\n",
        "  l5.append(v1+v2)\n",
        "  print(f'vi={v1};v2={v2}')\n",
        "\n",
        "print(l5)"
      ],
      "metadata": {
        "colab": {
          "base_uri": "https://localhost:8080/"
        },
        "id": "IiOZFLkX5tNP",
        "outputId": "7b8c6e1b-6c66-40cd-dfab-4214135af857"
      },
      "execution_count": 36,
      "outputs": [
        {
          "output_type": "stream",
          "name": "stdout",
          "text": [
            "vi=1;v2=2\n",
            "vi=5;v2=3\n",
            "vi=12;v2=7\n",
            "vi=14;v2=10\n",
            "[3, 8, 19, 24]\n"
          ]
        }
      ]
    },
    {
      "cell_type": "code",
      "source": [
        "print('{:.2f}'.format(3.1415))"
      ],
      "metadata": {
        "colab": {
          "base_uri": "https://localhost:8080/"
        },
        "id": "kIkfz0V16aJZ",
        "outputId": "e146785e-c37c-4ee9-d578-bc497ccb0092"
      },
      "execution_count": 38,
      "outputs": [
        {
          "output_type": "stream",
          "name": "stdout",
          "text": [
            "3.14\n"
          ]
        }
      ]
    },
    {
      "cell_type": "code",
      "source": [
        "i=0\n",
        "a=0\n",
        "\n",
        "while a>-1:\n",
        "  print(a)\n",
        "  print(i)\n",
        "  a=int(input('digite um numero:'))\n",
        "  if i<10:\n",
        "    if a==-1:\n",
        "      break\n",
        "    else:\n",
        "      i=i+1\n",
        "  else:\n",
        "    break\n",
        "\n",
        "    "
      ],
      "metadata": {
        "colab": {
          "base_uri": "https://localhost:8080/"
        },
        "id": "45TBkkrk8D4J",
        "outputId": "3e6e32f4-4f71-4cec-a76a-88428dfc93ff"
      },
      "execution_count": 42,
      "outputs": [
        {
          "name": "stdout",
          "output_type": "stream",
          "text": [
            "0\n",
            "0\n",
            "digite um numero:5\n",
            "5\n",
            "1\n",
            "digite um numero:2\n",
            "2\n",
            "2\n",
            "digite um numero:6\n",
            "6\n",
            "3\n",
            "digite um numero:2\n",
            "2\n",
            "4\n",
            "digite um numero:2\n",
            "2\n",
            "5\n",
            "digite um numero:2\n",
            "2\n",
            "6\n",
            "digite um numero:3\n",
            "3\n",
            "7\n",
            "digite um numero:2\n",
            "2\n",
            "8\n",
            "digite um numero:3\n",
            "3\n",
            "9\n",
            "digite um numero:2\n",
            "2\n",
            "10\n",
            "digite um numero:3\n"
          ]
        }
      ]
    },
    {
      "cell_type": "code",
      "source": [
        "a=[0, 1, 1, 1, 0, 0, 0, 1, 0, 1, 1, 1, 0, 1, 0, 1, 0, 1, 1, 0, 0, 1, 0, 1, 0, 1, 1, 1, 0, 0, 1, 0, 0, 1, 1, 0, 1, 1, 1, 1, 0, 0, 1, 0, 0, 0, 0, 0, 0, 1, 1, 1, 0, 0, 1, 1, 0, 1, 1, 0, 0, 1, 0, 1, 0, 1, 1, 1, 0, 0, 1, 0, 0, 0, 1, 0, 0, 0, 0, 0, 0, 1, 1, 1, 0, 1, 0, 1, 0, 1, 1, 0, 1, 1, 0, 1, 0, 0, 1, 0, 0, 0, 0, 0, 0, 1, 1, 0, 0, 0, 1, 1, 0, 1, 1, 0, 1, 0, 0, 1, 0, 1, 1, 0, 0, 1, 0, 1, 0, 1, 1, 0, 1, 1, 1, 0, 0, 1, 1, 1, 0, 1, 0, 0, 0, 1, 1, 0, 1, 0, 0, 1, 0, 1, 1, 1, 0, 0, 1, 1, 0, 1, 1, 1, 0, 1, 0, 0, 0, 1, 1, 0, 0, 0, 0, 1, 0, 0, 1, 0, 0, 0, 0, 0, 0, 1, 1, 0, 0, 1, 0, 0, 0, 1, 1, 0, 0, 1, 0, 1, 0, 0, 1, 0, 0, 0, 0, 0, 0, 1, 1, 0, 0, 1, 0, 0, 0, 1, 1, 0, 0, 0, 0, 1, 0, 1, 1, 0, 0, 1, 0, 0, 0, 1, 1, 0, 1, 1, 1, 1, 0, 1, 1, 1, 0, 0, 1, 1]\n",
        "print(len(a))\n",
        "\n",
        "while a.count(0)>0:\n",
        "  a.remove(0)\n",
        "\n",
        "print(len(a)) "
      ],
      "metadata": {
        "colab": {
          "base_uri": "https://localhost:8080/"
        },
        "id": "SOWrTh-j8ygQ",
        "outputId": "4da0c96b-65d4-4d42-8015-7d73451b53bd"
      },
      "execution_count": 46,
      "outputs": [
        {
          "output_type": "stream",
          "name": "stdout",
          "text": [
            "248\n",
            "115\n"
          ]
        }
      ]
    },
    {
      "cell_type": "code",
      "source": [
        "altura = 1.75 \n",
        "peso = 79.2 \n",
        "IMC = peso/altura**2 \n",
        "print('{:.2f}'.format(IMC))"
      ],
      "metadata": {
        "colab": {
          "base_uri": "https://localhost:8080/"
        },
        "id": "s7WJlTDL531a",
        "outputId": "64b640a6-3823-4dbf-d97f-835e59fa71e2"
      },
      "execution_count": 1,
      "outputs": [
        {
          "output_type": "stream",
          "name": "stdout",
          "text": [
            "25.86\n"
          ]
        }
      ]
    },
    {
      "cell_type": "code",
      "source": [
        "Lista1 = [1,2,3,4,5] \n",
        "Lista2 = [1,2,3,4,5] \n",
        "Lista3 = Lista1 + Lista2 \n",
        "print(Lista3)"
      ],
      "metadata": {
        "colab": {
          "base_uri": "https://localhost:8080/"
        },
        "id": "dUl4sqa06CxK",
        "outputId": "8f1787ae-6334-4e4f-e056-53643fcc7d15"
      },
      "execution_count": 2,
      "outputs": [
        {
          "output_type": "stream",
          "name": "stdout",
          "text": [
            "[1, 2, 3, 4, 5, 1, 2, 3, 4, 5]\n"
          ]
        }
      ]
    },
    {
      "cell_type": "code",
      "source": [
        "a =['dnc','abc','bnc','mnc','dnc','bnc','Dnc','ncd','dnc','dncdnc','ddnc']\n",
        "print(a[5])"
      ],
      "metadata": {
        "colab": {
          "base_uri": "https://localhost:8080/"
        },
        "id": "QqM2VeWD6RTR",
        "outputId": "6033a645-418f-4b78-bdbe-d8c879e46be1"
      },
      "execution_count": 5,
      "outputs": [
        {
          "output_type": "stream",
          "name": "stdout",
          "text": [
            "bnc\n"
          ]
        }
      ]
    },
    {
      "cell_type": "code",
      "source": [
        "a = '10' \n",
        "b = '3' \n",
        "c = int(a)%int(b) \n",
        "print(c)"
      ],
      "metadata": {
        "colab": {
          "base_uri": "https://localhost:8080/"
        },
        "id": "Ix509dNP6ovM",
        "outputId": "05b0e6fc-5675-4403-edce-7df5b1e6e00f"
      },
      "execution_count": 6,
      "outputs": [
        {
          "output_type": "stream",
          "name": "stdout",
          "text": [
            "1\n"
          ]
        }
      ]
    },
    {
      "cell_type": "code",
      "source": [
        "lista = [13,2,19,11,7,9,19,16,17,7,7,10,1,6,'dnc',18,2,11,2,9,10] \n",
        "X=0 \n",
        "i=0 \n",
        "while True: \n",
        "  if lista[i] == 'dnc': \n",
        "    break \n",
        "  if lista[i]%2 == 1: \n",
        "    X += lista[i] \n",
        "  i += 1 \n",
        "  print(X)"
      ],
      "metadata": {
        "colab": {
          "base_uri": "https://localhost:8080/"
        },
        "id": "o0alNKI260Nh",
        "outputId": "4bf42014-7bda-45e8-d7d8-84b01a3f9c95"
      },
      "execution_count": 8,
      "outputs": [
        {
          "output_type": "stream",
          "name": "stdout",
          "text": [
            "13\n",
            "13\n",
            "32\n",
            "43\n",
            "50\n",
            "59\n",
            "78\n",
            "78\n",
            "95\n",
            "102\n",
            "109\n",
            "109\n",
            "110\n",
            "110\n"
          ]
        }
      ]
    },
    {
      "cell_type": "code",
      "source": [
        "def contador_x (lista1,lista2,x): \n",
        "  contador=0 \n",
        "  for a,b in zip(lista1,lista2): \n",
        "    if a =='x' and b=='x': \n",
        "      break \n",
        "    else: \n",
        "      contador+=1 \n",
        "  return contador\n",
        "\n",
        "a =['dnc','abc','bnc','mnc','dnc','bnc','Dnc','ncd','dnc','dncdnc','ddnc'] \n",
        "b =['dnc','abc','bnc','mnc','dnc','bnc','Dnc','ncd','dnc','dncdnc','ddnc','xms','cds','dn','cdn','dnc','xml','a'] \n",
        "y = contador_x(a,b,'dnc')\n",
        "\n",
        "print(y)"
      ],
      "metadata": {
        "colab": {
          "base_uri": "https://localhost:8080/"
        },
        "id": "PidTfsHQ7tm-",
        "outputId": "357b4869-c5f1-4d80-a163-4c38619b71a2"
      },
      "execution_count": 13,
      "outputs": [
        {
          "output_type": "stream",
          "name": "stdout",
          "text": [
            "11\n"
          ]
        }
      ]
    },
    {
      "cell_type": "code",
      "source": [
        "def Z (lista1,lista2,x):\n",
        "  z=0 \n",
        "  for a in lista1: \n",
        "    if a ==x: \n",
        "      z+=1 \n",
        "  for b in lista2: \n",
        "    if b==x: z+=1 \n",
        "  return z \n",
        "\n",
        "a =['dnc','abc','bnc','mnc','dnc','bnc','Dnc','ncd','dnc','dncdnc','ddnc'] \n",
        "b = ['dnc','abc','bnc','mnc','dnc','bnc','Dnc','ncd','dnc','dncdnc','ddnc','xms','cds','dn','cdn','dnc','xml','a'] \n",
        "y = Z(a,b,'dnc') \n",
        "print(y)"
      ],
      "metadata": {
        "colab": {
          "base_uri": "https://localhost:8080/"
        },
        "id": "jdq-d9LY9Yyn",
        "outputId": "54aff0a8-451b-4bf0-a9a3-ab6e4e89974e"
      },
      "execution_count": 14,
      "outputs": [
        {
          "output_type": "stream",
          "name": "stdout",
          "text": [
            "7\n"
          ]
        }
      ]
    },
    {
      "cell_type": "code",
      "source": [
        "lista = [77,80,90,23,44,15,11,25,68,14,22,99]\n",
        "X = sorted(lista) \n",
        "print(X)"
      ],
      "metadata": {
        "colab": {
          "base_uri": "https://localhost:8080/"
        },
        "id": "5SdmF9Yg-GPS",
        "outputId": "304db7e2-e008-4024-fe89-623b402d1f00"
      },
      "execution_count": 15,
      "outputs": [
        {
          "output_type": "stream",
          "name": "stdout",
          "text": [
            "[11, 14, 15, 22, 23, 25, 44, 68, 77, 80, 90, 99]\n"
          ]
        }
      ]
    },
    {
      "cell_type": "code",
      "source": [
        "lista = [77,80,90,23,44,15,11,25,68,14,22,99] \n",
        "X = list(lista) \n",
        "print(X)"
      ],
      "metadata": {
        "colab": {
          "base_uri": "https://localhost:8080/"
        },
        "id": "iM2Q0HCq-U3n",
        "outputId": "89b60af3-7470-4604-ff9b-26871f5b2904"
      },
      "execution_count": 16,
      "outputs": [
        {
          "output_type": "stream",
          "name": "stdout",
          "text": [
            "[77, 80, 90, 23, 44, 15, 11, 25, 68, 14, 22, 99]\n"
          ]
        }
      ]
    },
    {
      "cell_type": "code",
      "source": [
        "lista = [77,80,90,23,44,15,11,25,68,14,22,99] \n",
        "X = set(lista) \n",
        "print(X)"
      ],
      "metadata": {
        "colab": {
          "base_uri": "https://localhost:8080/"
        },
        "id": "Fz1eq34r-Ybs",
        "outputId": "4f83711d-ae57-4213-adfd-258e9b8b1656"
      },
      "execution_count": 17,
      "outputs": [
        {
          "output_type": "stream",
          "name": "stdout",
          "text": [
            "{99, 68, 11, 44, 77, 14, 15, 80, 22, 23, 25, 90}\n"
          ]
        }
      ]
    },
    {
      "cell_type": "code",
      "source": [
        "lista = [77,80,90,23,44,15,11,25,68,14,22,99] \n",
        "X = dict(lista)\n",
        "print(X)"
      ],
      "metadata": {
        "colab": {
          "base_uri": "https://localhost:8080/",
          "height": 207
        },
        "id": "_mgB5xrn-ejT",
        "outputId": "916b6f9e-04af-4b50-ccb1-9e1c34d71e3c"
      },
      "execution_count": 19,
      "outputs": [
        {
          "output_type": "error",
          "ename": "TypeError",
          "evalue": "ignored",
          "traceback": [
            "\u001b[0;31m---------------------------------------------------------------------------\u001b[0m",
            "\u001b[0;31mTypeError\u001b[0m                                 Traceback (most recent call last)",
            "\u001b[0;32m<ipython-input-19-9632ecb73f35>\u001b[0m in \u001b[0;36m<module>\u001b[0;34m\u001b[0m\n\u001b[1;32m      1\u001b[0m \u001b[0mlista\u001b[0m \u001b[0;34m=\u001b[0m \u001b[0;34m[\u001b[0m\u001b[0;36m77\u001b[0m\u001b[0;34m,\u001b[0m\u001b[0;36m80\u001b[0m\u001b[0;34m,\u001b[0m\u001b[0;36m90\u001b[0m\u001b[0;34m,\u001b[0m\u001b[0;36m23\u001b[0m\u001b[0;34m,\u001b[0m\u001b[0;36m44\u001b[0m\u001b[0;34m,\u001b[0m\u001b[0;36m15\u001b[0m\u001b[0;34m,\u001b[0m\u001b[0;36m11\u001b[0m\u001b[0;34m,\u001b[0m\u001b[0;36m25\u001b[0m\u001b[0;34m,\u001b[0m\u001b[0;36m68\u001b[0m\u001b[0;34m,\u001b[0m\u001b[0;36m14\u001b[0m\u001b[0;34m,\u001b[0m\u001b[0;36m22\u001b[0m\u001b[0;34m,\u001b[0m\u001b[0;36m99\u001b[0m\u001b[0;34m]\u001b[0m\u001b[0;34m\u001b[0m\u001b[0;34m\u001b[0m\u001b[0m\n\u001b[0;32m----> 2\u001b[0;31m \u001b[0mX\u001b[0m \u001b[0;34m=\u001b[0m \u001b[0mdict\u001b[0m\u001b[0;34m(\u001b[0m\u001b[0mlista\u001b[0m\u001b[0;34m)\u001b[0m\u001b[0;34m\u001b[0m\u001b[0;34m\u001b[0m\u001b[0m\n\u001b[0m\u001b[1;32m      3\u001b[0m \u001b[0mprint\u001b[0m\u001b[0;34m(\u001b[0m\u001b[0mX\u001b[0m\u001b[0;34m)\u001b[0m\u001b[0;34m\u001b[0m\u001b[0;34m\u001b[0m\u001b[0m\n",
            "\u001b[0;31mTypeError\u001b[0m: cannot convert dictionary update sequence element #0 to a sequence"
          ]
        }
      ]
    },
    {
      "cell_type": "code",
      "source": [
        "dicionario={'pessoa_1':{'nome':'Peterson','sobrenome':'Almeida'}, 'pessoa_2':{'nome':'Maria','sobrenome':'Silva'}, 'pessoa_3':{'nome':'Jose','sobrenome':'Santos'}} \n",
        "nome_completo=[] \n",
        "for a,b in dicionario.items(): \n",
        "  nome_completo.append(str(b['nome'])'+'str(b['sobrenome']))\n",
        "print(nome_completo)"
      ],
      "metadata": {
        "colab": {
          "base_uri": "https://localhost:8080/",
          "height": 134
        },
        "id": "ayFzFU-e-pP3",
        "outputId": "569889d0-aa5d-46fe-8550-e64c70c61ad1"
      },
      "execution_count": 20,
      "outputs": [
        {
          "output_type": "error",
          "ename": "SyntaxError",
          "evalue": "ignored",
          "traceback": [
            "\u001b[0;36m  File \u001b[0;32m\"<ipython-input-20-5e1896ba4ad1>\"\u001b[0;36m, line \u001b[0;32m4\u001b[0m\n\u001b[0;31m    nome_completo.append(str(b['nome'])'+'str(b['sobrenome']))\u001b[0m\n\u001b[0m                                         ^\u001b[0m\n\u001b[0;31mSyntaxError\u001b[0m\u001b[0;31m:\u001b[0m invalid syntax\n"
          ]
        }
      ]
    }
  ]
}